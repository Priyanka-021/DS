{
  "nbformat": 4,
  "nbformat_minor": 0,
  "metadata": {
    "colab": {
      "provenance": []
    },
    "kernelspec": {
      "name": "python3",
      "display_name": "Python 3"
    },
    "language_info": {
      "name": "python"
    }
  },
  "cells": [
    {
      "cell_type": "markdown",
      "source": [
        "# **Data Types and Structures Questions**\n",
        "**1.What are data structures, and why are they important?**\n",
        "\n",
        "  Data structures are specialized formats for organizing, storing and accessing collections of data. They provide efficient ways to manage informationnn based on its characteristics and intended use.\n",
        "  **Importance**\n",
        "  Choosing the right data structure significantly impacts the efficiency and performance of program.\n",
        "  well choosen data structure can: simplyfy data manipulation(add,remove).\n",
        "  Optimize searching and storing operations.\n",
        "  Conserve memory usage.\n",
        "\n",
        "\n",
        "\n"
      ],
      "metadata": {
        "id": "AkzBtde9gx9-"
      }
    },
    {
      "cell_type": "markdown",
      "source": [
        "**2. Explain the difference between mutable and immutable data types with examples?**\n",
        "\n",
        "Mutable means which can be change/modified like list, set,dic.\n",
        "Immutable means which cann't be modified after creation like tuples, string, they stores data in a specific location i.e.using hash table.\n",
        "eg -:\n",
        "\n",
        "\n",
        "\n",
        "\n"
      ],
      "metadata": {
        "id": "HEJY6XPB1EdP"
      }
    },
    {
      "cell_type": "code",
      "source": [
        "l1=[1,2,3,4.2,4+8j]\n",
        "l1[2]=\"priyanka\"\n",
        "l1"
      ],
      "metadata": {
        "colab": {
          "base_uri": "https://localhost:8080/"
        },
        "id": "4ZljbIr-L1kC",
        "outputId": "a3f266cc-827b-4e71-d496-4643f7a6962e"
      },
      "execution_count": null,
      "outputs": [
        {
          "output_type": "execute_result",
          "data": {
            "text/plain": [
              "[1, 2, 'priyanka', 4.2, (4+8j)]"
            ]
          },
          "metadata": {},
          "execution_count": 19
        }
      ]
    },
    {
      "cell_type": "code",
      "source": [
        "l2=(1,2,3,4.2,4+8j)\n",
        "l2[2]= 25\n",
        "l2"
      ],
      "metadata": {
        "colab": {
          "base_uri": "https://localhost:8080/",
          "height": 183
        },
        "id": "beuF_LdxNP7q",
        "outputId": "7892d90e-cb87-43c3-f226-04df8010b597"
      },
      "execution_count": null,
      "outputs": [
        {
          "output_type": "error",
          "ename": "TypeError",
          "evalue": "'tuple' object does not support item assignment",
          "traceback": [
            "\u001b[0;31m---------------------------------------------------------------------------\u001b[0m",
            "\u001b[0;31mTypeError\u001b[0m                                 Traceback (most recent call last)",
            "\u001b[0;32m<ipython-input-20-5eaf6316947e>\u001b[0m in \u001b[0;36m<cell line: 0>\u001b[0;34m()\u001b[0m\n\u001b[1;32m      1\u001b[0m \u001b[0ml2\u001b[0m\u001b[0;34m=\u001b[0m\u001b[0;34m(\u001b[0m\u001b[0;36m1\u001b[0m\u001b[0;34m,\u001b[0m\u001b[0;36m2\u001b[0m\u001b[0;34m,\u001b[0m\u001b[0;36m3\u001b[0m\u001b[0;34m,\u001b[0m\u001b[0;36m4.2\u001b[0m\u001b[0;34m,\u001b[0m\u001b[0;36m4\u001b[0m\u001b[0;34m+\u001b[0m\u001b[0;36m8j\u001b[0m\u001b[0;34m)\u001b[0m\u001b[0;34m\u001b[0m\u001b[0;34m\u001b[0m\u001b[0m\n\u001b[0;32m----> 2\u001b[0;31m \u001b[0ml2\u001b[0m\u001b[0;34m[\u001b[0m\u001b[0;36m2\u001b[0m\u001b[0;34m]\u001b[0m\u001b[0;34m=\u001b[0m \u001b[0;36m25\u001b[0m\u001b[0;34m\u001b[0m\u001b[0;34m\u001b[0m\u001b[0m\n\u001b[0m\u001b[1;32m      3\u001b[0m \u001b[0ml2\u001b[0m\u001b[0;34m\u001b[0m\u001b[0;34m\u001b[0m\u001b[0m\n",
            "\u001b[0;31mTypeError\u001b[0m: 'tuple' object does not support item assignment"
          ]
        }
      ]
    },
    {
      "cell_type": "markdown",
      "source": [
        "**3.What are the main differences between lists and tuples in Python?**\n",
        "\n",
        "The main difference in tuple and list is that tuble uses hash table that is easy to retrive data while list is mutable that is modification in data can be done.\n",
        "list uses [ ] to show the data, while tuples uses () bracket for data.\n"
      ],
      "metadata": {
        "id": "tQbiT-haNbQH"
      }
    },
    {
      "cell_type": "markdown",
      "source": [
        "**4.Describe how dictionaries store data?**\n",
        "\n",
        "Dictionaries uses key value pair to store data (not a specific order) which is accessible by calling key (not by indexing). Each key acts as unique identifier for retreiving an associated value. Key and values can be of various data type (string,number,list and even other dictionaries)."
      ],
      "metadata": {
        "id": "le4L2YWxO3TA"
      }
    },
    {
      "cell_type": "markdown",
      "source": [
        "**5.Why might you use a set instead of a list in Python?**\n",
        "\n",
        "Set is unordered but unique collections of elements while list is ordered collection of elements i.e it results all the element whether the same elements present multiple times where as in set it filtered out the multiple presence of same element and results the unique elements only that's why when uniqueness is priority then set are more preferable than list.\n"
      ],
      "metadata": {
        "id": "5euDyGjcRZXd"
      }
    },
    {
      "cell_type": "markdown",
      "source": [
        "**6.What is a string in Python, and how is it different from a list?**\n",
        "\n",
        "String is a sequence of character where each character is unit of text, use to represent and manipulate textual data (replacement not changeable as string is immutable), where is list are ordered collection of item and can store any type of data and is mutable."
      ],
      "metadata": {
        "id": "3nQQ89ebTkry"
      }
    },
    {
      "cell_type": "markdown",
      "source": [
        "**7.How do tuples ensure data integrity in Python?**\n",
        "\n",
        "As tuples are used specific memory location that is following hash table which does not allow to overwrite the data or any modification, i.e. what ever data provided at the time of creation of data it reamins fixed never be changed.\n"
      ],
      "metadata": {
        "id": "xz4EyogyU4hP"
      }
    },
    {
      "cell_type": "markdown",
      "source": [
        "**8.What is a hash table, and how does it relate to dictionaries in Python?**\n",
        "\n",
        "Hashable means defining a exact incoading i.e. fixed value or memory location. As dictionaries has key-value pair where key is a fixed hash value so when key value is of string and number it run the code besides this it throw an error.\n"
      ],
      "metadata": {
        "id": "f-TsGSO7f3bc"
      }
    },
    {
      "cell_type": "markdown",
      "source": [
        "**9.Can lists contain different data types in Python?**\n",
        "\n",
        "Yes, list can contain any data type whether it is int,complex,bool,float,string,and also can contains list under list i.e. nested list.\n"
      ],
      "metadata": {
        "id": "SHczVkIQhPy7"
      }
    },
    {
      "cell_type": "markdown",
      "source": [
        "**10.Explain why strings are immutable in Python?**\n",
        "\n",
        "String is characters arranged in an unchangeable order that is follow hash table (immutable) to optimize memory location like writing a sentence ,a paragraph or a piece of material which we don't want to change. They can only altered by replacement.\n"
      ],
      "metadata": {
        "id": "nyErOyaCh7vW"
      }
    },
    {
      "cell_type": "markdown",
      "source": [
        "**11.What advantages do dictionaries offer over lists for certain tasks?**\n",
        "\n",
        "As disctionaries stores data in key-value pair, they are easy to retrive . Where as in list, have to check all the data for any element.\n",
        "In dictionary if the same key value assign with new data it will always provided new data only, while in list it provide all the data that is duplicate one also.\n"
      ],
      "metadata": {
        "id": "wg0yWwvPj667"
      }
    },
    {
      "cell_type": "markdown",
      "source": [
        "**12.Describe a scenario where using a tuple would be preferable over a list.**\n",
        "\n",
        "As tuples are immutable so use where the changes in data is not desirable like employee id, aadhar , personal info of client, patient medical history etc. On the other side if we use the list, as it is mutable data, can be accessed than modified by indexing and slicing,also use to change the data as per new requirement but not desirable in the scenario of like employee id as it contains that person's designation,experience and salary.\n"
      ],
      "metadata": {
        "id": "_Z5mWzValpA5"
      }
    },
    {
      "cell_type": "markdown",
      "source": [
        "**13.How do sets handle duplicate values in Python?**\n",
        "\n",
        "As set is unordered unique collection of elements that is, if in input data there is any element present more than one time it automatically pass it and throw only unique element i.e. repetition is not there of any element in output.\n"
      ],
      "metadata": {
        "id": "uyjHquHxn625"
      }
    },
    {
      "cell_type": "markdown",
      "source": [
        "**14.How does the “in” keyword work differently for lists and dictionaries?**\n",
        "\n",
        "\"in\" keyword in list use to check the membership of any element i.e whether the element is present in the data or not. Where as in  disctionaries \"in\" keyword is use to check if a key exists in the dictionary or not , not used for the values.\n"
      ],
      "metadata": {
        "id": "2SfqJVPOqFkl"
      }
    },
    {
      "cell_type": "markdown",
      "source": [
        "**15.Can you modify the elements of a tuple? Explain why or why not?**\n",
        "\n",
        "No, modification of element of a tuple is not possible because it allocate a specific location in memory that is exact incoading (immutable type). It provide a secure way to store data that shouldn't be modify.\n"
      ],
      "metadata": {
        "id": "-hz6L_NDrErJ"
      }
    },
    {
      "cell_type": "markdown",
      "source": [
        "**16.What is a nested dictionary, and give an example of its use case?**\n",
        "\n",
        "Nested dictionary means dictionary under another disctionary as its value.\n",
        "eg-:\n"
      ],
      "metadata": {
        "id": "A8Z3SagWsK-8"
      }
    },
    {
      "cell_type": "code",
      "source": [
        "Hostel={\n",
        "    \"Room1\":{\"name\":\"ram\",\"age\":23,\"study\":\"maths\"},\n",
        "    \"Room2\":{\"name\":\"manu\",\"age\":24,\"study\":\"phy\"},\n",
        "    \"Room3\":{\"name\":\"summa\",\"age\":22,\"study\":\"entonmy\"}\n",
        "      }"
      ],
      "metadata": {
        "id": "yEvayBwwtK8h"
      },
      "execution_count": null,
      "outputs": []
    },
    {
      "cell_type": "code",
      "source": [
        "print(Hostel[\"Room2\"][\"study\"])"
      ],
      "metadata": {
        "colab": {
          "base_uri": "https://localhost:8080/"
        },
        "id": "JbwbcrbRujib",
        "outputId": "49536f8b-9768-4b8d-9eed-2ebcc3b755db"
      },
      "execution_count": null,
      "outputs": [
        {
          "output_type": "stream",
          "name": "stdout",
          "text": [
            "phy\n"
          ]
        }
      ]
    },
    {
      "cell_type": "markdown",
      "source": [
        "**17.Describe the time complexity of accessing elements in a dictionary.**\n",
        "\n",
        "As dictionary is storing key-value pair using hash table for key it became efficent to access element in dictionary. It directly prrovide the value of the key due to exact incoading.\n"
      ],
      "metadata": {
        "id": "muvIUs3-vLV0"
      }
    },
    {
      "cell_type": "markdown",
      "source": [
        "**18.In what situations are lists preferred over dictionaries?**\n",
        "\n",
        "List provide index based accessibility while in dict, it is key through values can be access. List maintain order of the elements that is prefered when maintaing data is imortant as list provide order collection of element and throw same in output while in dictionary if any value present multiple time with same key than it throw ony new assign value. List is unhashable type that required less memory space while dict follow hash table to required more memory space.\n"
      ],
      "metadata": {
        "id": "eq8W0ldrwGmK"
      }
    },
    {
      "cell_type": "markdown",
      "source": [
        "**19.Why are dictionaries considered unordered, and how does that affect data retrieval?**\n",
        "\n",
        "In dictionary elements are not stored in a specific order that is iterating over a dictionary could return any order, but in version 3.7 now dictionary retain the order that is (retrieving the data in key) over iteration it will return the same order of element as in input."
      ],
      "metadata": {
        "id": "3HRI8LoMzmZ6"
      }
    },
    {
      "cell_type": "markdown",
      "source": [
        "**20.Explain the difference between a list and a dictionary in terms of data retrieval.**\n",
        "\n",
        "For data retrieval in list used the indexing.  while in dictionary it uses key i.e. directly goes to the exact loaction(passs all the other values)of the element. In list there is no use of hash value/table.\n"
      ],
      "metadata": {
        "id": "oslmbcej1Dk2"
      }
    },
    {
      "cell_type": "markdown",
      "source": [
        "# **Practical Questions**\n",
        "1.Write a code to create a string with your name and print it."
      ],
      "metadata": {
        "id": "H5O2XS8g0rEM"
      }
    },
    {
      "cell_type": "code",
      "source": [
        "name=\"Priyanka\"\n",
        "print(name)"
      ],
      "metadata": {
        "colab": {
          "base_uri": "https://localhost:8080/"
        },
        "id": "dr3rv0s8hHEd",
        "outputId": "9ae43d8f-1aa5-4976-b628-22dd4bcb1378"
      },
      "execution_count": null,
      "outputs": [
        {
          "output_type": "stream",
          "name": "stdout",
          "text": [
            "Priyanka\n"
          ]
        }
      ]
    },
    {
      "cell_type": "code",
      "source": [
        "type(name)"
      ],
      "metadata": {
        "colab": {
          "base_uri": "https://localhost:8080/"
        },
        "id": "Z0SMJn6eAu3O",
        "outputId": "1949cdb8-48a4-4f0d-8cfb-03a12d979256"
      },
      "execution_count": null,
      "outputs": [
        {
          "output_type": "execute_result",
          "data": {
            "text/plain": [
              "str"
            ]
          },
          "metadata": {},
          "execution_count": 118
        }
      ]
    },
    {
      "cell_type": "markdown",
      "source": [
        "2.Write a code to find the length of the string \"Hello World\"."
      ],
      "metadata": {
        "id": "0PKeK-FDiCBP"
      }
    },
    {
      "cell_type": "code",
      "source": [
        "len(\"Hello World\")"
      ],
      "metadata": {
        "colab": {
          "base_uri": "https://localhost:8080/"
        },
        "id": "zrJRQKwUiP_M",
        "outputId": "9a8b4a21-00db-4be7-f339-ec7d013ae7f2"
      },
      "execution_count": null,
      "outputs": [
        {
          "output_type": "execute_result",
          "data": {
            "text/plain": [
              "11"
            ]
          },
          "metadata": {},
          "execution_count": 119
        }
      ]
    },
    {
      "cell_type": "markdown",
      "source": [
        "3.Write a code to slice the first 3 characters from the string \"Python Programming\".\n"
      ],
      "metadata": {
        "id": "ybpyB3zbiw1M"
      }
    },
    {
      "cell_type": "code",
      "source": [
        "s=\"Python Programming\"\n",
        "s[0:3]"
      ],
      "metadata": {
        "colab": {
          "base_uri": "https://localhost:8080/",
          "height": 36
        },
        "id": "0yzmyGXAi3AH",
        "outputId": "79454e2d-0110-4784-d102-c08d6b292676"
      },
      "execution_count": null,
      "outputs": [
        {
          "output_type": "execute_result",
          "data": {
            "text/plain": [
              "'Pyt'"
            ],
            "application/vnd.google.colaboratory.intrinsic+json": {
              "type": "string"
            }
          },
          "metadata": {},
          "execution_count": 120
        }
      ]
    },
    {
      "cell_type": "markdown",
      "source": [
        "4.Write a code to convert the string \"hello\" to uppercase."
      ],
      "metadata": {
        "id": "Z_Ko5UNZjQ1Y"
      }
    },
    {
      "cell_type": "code",
      "source": [
        "s= \"hello\"\n",
        "s.upper()"
      ],
      "metadata": {
        "colab": {
          "base_uri": "https://localhost:8080/",
          "height": 36
        },
        "id": "DQ6Ji3aBjhoM",
        "outputId": "8950a7ec-a40a-4073-9fed-4100dbfcdcff"
      },
      "execution_count": null,
      "outputs": [
        {
          "output_type": "execute_result",
          "data": {
            "text/plain": [
              "'HELLO'"
            ],
            "application/vnd.google.colaboratory.intrinsic+json": {
              "type": "string"
            }
          },
          "metadata": {},
          "execution_count": 121
        }
      ]
    },
    {
      "cell_type": "markdown",
      "source": [
        "5.Write a code to replace the word \"apple\" with \"orange\" in the string \"I like apple\"\n"
      ],
      "metadata": {
        "id": "bxCU8f1RkLAk"
      }
    },
    {
      "cell_type": "code",
      "source": [
        "s= (\"I like apple\")\n",
        "s.replace(\"apple\",\"orange\")"
      ],
      "metadata": {
        "colab": {
          "base_uri": "https://localhost:8080/",
          "height": 36
        },
        "id": "2IQ4XK6IkPHZ",
        "outputId": "b00f046f-ba60-4e92-eb94-027fb8a1c722"
      },
      "execution_count": null,
      "outputs": [
        {
          "output_type": "execute_result",
          "data": {
            "text/plain": [
              "'I like orange'"
            ],
            "application/vnd.google.colaboratory.intrinsic+json": {
              "type": "string"
            }
          },
          "metadata": {},
          "execution_count": 122
        }
      ]
    },
    {
      "cell_type": "markdown",
      "source": [
        "6.Write a code to create a list with numbers 1 to 5 and print it.\n",
        "\n"
      ],
      "metadata": {
        "id": "kdlGPHi0kpWF"
      }
    },
    {
      "cell_type": "code",
      "source": [
        "list(range(1,6))\n",
        "  ''"
      ],
      "metadata": {
        "colab": {
          "base_uri": "https://localhost:8080/"
        },
        "id": "BH3S36unFrFK",
        "outputId": "b6314829-5af2-42fc-a3c6-52a60f14856c"
      },
      "execution_count": null,
      "outputs": [
        {
          "output_type": "execute_result",
          "data": {
            "text/plain": [
              "[1, 2, 3, 4, 5]"
            ]
          },
          "metadata": {},
          "execution_count": 145
        }
      ]
    },
    {
      "cell_type": "markdown",
      "source": [
        "7.Write a code to append the number 10 to the list [1, 2, 3, 4].\n"
      ],
      "metadata": {
        "id": "947hjiRqrDcV"
      }
    },
    {
      "cell_type": "code",
      "source": [
        "num = [1,2,3,4]\n",
        "num.append(10)\n",
        "print(num)"
      ],
      "metadata": {
        "colab": {
          "base_uri": "https://localhost:8080/"
        },
        "id": "_QRRb8RYrXzV",
        "outputId": "1d7acdc1-a1dc-471e-fbc0-929973fea9f3"
      },
      "execution_count": null,
      "outputs": [
        {
          "output_type": "stream",
          "name": "stdout",
          "text": [
            "[1, 2, 3, 4, 10]\n"
          ]
        }
      ]
    },
    {
      "cell_type": "markdown",
      "source": [
        "8.Write a code to remove the number 3 from the list [1, 2, 3, 4, 5].\n",
        "\n"
      ],
      "metadata": {
        "id": "Vub8tPekrrAc"
      }
    },
    {
      "cell_type": "code",
      "source": [
        "s= [1,2,3,4,5]\n",
        "s.remove(3)\n",
        "print(s)"
      ],
      "metadata": {
        "colab": {
          "base_uri": "https://localhost:8080/"
        },
        "id": "4_HAZsWdsC13",
        "outputId": "265b6297-09a6-4c22-dbf8-2eb459ceffff"
      },
      "execution_count": null,
      "outputs": [
        {
          "output_type": "stream",
          "name": "stdout",
          "text": [
            "[1, 2, 4, 5]\n"
          ]
        }
      ]
    },
    {
      "cell_type": "markdown",
      "source": [
        "9.Write a code to access the second element in the list ['a', 'b', 'c', 'd']\n"
      ],
      "metadata": {
        "id": "zbooVb94sV88"
      }
    },
    {
      "cell_type": "code",
      "source": [
        "a= ['a','b','c','d']\n",
        "a[1]"
      ],
      "metadata": {
        "colab": {
          "base_uri": "https://localhost:8080/",
          "height": 36
        },
        "id": "Z87Sh_WusdsT",
        "outputId": "8c1ad2f8-fdc7-4a4c-93f9-55d432af5b92"
      },
      "execution_count": null,
      "outputs": [
        {
          "output_type": "execute_result",
          "data": {
            "text/plain": [
              "'b'"
            ],
            "application/vnd.google.colaboratory.intrinsic+json": {
              "type": "string"
            }
          },
          "metadata": {},
          "execution_count": 126
        }
      ]
    },
    {
      "cell_type": "markdown",
      "source": [
        "10.Write a code to reverse the list [10, 20, 30, 40, 50]."
      ],
      "metadata": {
        "id": "Frpq4nfktTLP"
      }
    },
    {
      "cell_type": "code",
      "source": [
        "s= [10,20,30,40,50]\n",
        "s[::-1]"
      ],
      "metadata": {
        "colab": {
          "base_uri": "https://localhost:8080/"
        },
        "id": "BZVLXTCMtz0m",
        "outputId": "c4c0420a-fe10-4457-f3ca-af99bb26f472"
      },
      "execution_count": null,
      "outputs": [
        {
          "output_type": "execute_result",
          "data": {
            "text/plain": [
              "[50, 40, 30, 20, 10]"
            ]
          },
          "metadata": {},
          "execution_count": 127
        }
      ]
    },
    {
      "cell_type": "markdown",
      "source": [
        "11.Write a code to create a tuple with the elements 100, 200, 300 and print it."
      ],
      "metadata": {
        "id": "oiQ8a3gDubr9"
      }
    },
    {
      "cell_type": "code",
      "source": [
        "tuple1= (100,200,300)\n",
        "print(tuple1)"
      ],
      "metadata": {
        "colab": {
          "base_uri": "https://localhost:8080/"
        },
        "id": "MgLywPoXyoTj",
        "outputId": "96ea9a3e-11fd-4d25-e4c1-b22350b3aeaa"
      },
      "execution_count": null,
      "outputs": [
        {
          "output_type": "stream",
          "name": "stdout",
          "text": [
            "(100, 200, 300)\n"
          ]
        }
      ]
    },
    {
      "cell_type": "markdown",
      "source": [
        "12. Write a code to access the second-to-last element of the tuple ('red', 'green', 'blue', 'yellow')."
      ],
      "metadata": {
        "id": "UzdJCuzvzBNb"
      }
    },
    {
      "cell_type": "code",
      "source": [
        "t= ('red','green','blue','yellow')\n",
        "t[-2]"
      ],
      "metadata": {
        "colab": {
          "base_uri": "https://localhost:8080/",
          "height": 36
        },
        "id": "fpGxYttWzD35",
        "outputId": "03bd8498-2dbd-482b-90dd-9d7b36e68e2c"
      },
      "execution_count": null,
      "outputs": [
        {
          "output_type": "execute_result",
          "data": {
            "text/plain": [
              "'blue'"
            ],
            "application/vnd.google.colaboratory.intrinsic+json": {
              "type": "string"
            }
          },
          "metadata": {},
          "execution_count": 150
        }
      ]
    },
    {
      "cell_type": "markdown",
      "source": [
        "13. Write a code to find the minimum number in the tuple (10, 20, 5, 15)."
      ],
      "metadata": {
        "id": "2OSfhdp0znS4"
      }
    },
    {
      "cell_type": "code",
      "source": [
        "s= (10,20,5,15)\n",
        "min(s)"
      ],
      "metadata": {
        "colab": {
          "base_uri": "https://localhost:8080/"
        },
        "id": "W-1IQxl5zpuY",
        "outputId": "be372a56-27dd-4dda-bda9-e6beb6eda121"
      },
      "execution_count": null,
      "outputs": [
        {
          "output_type": "execute_result",
          "data": {
            "text/plain": [
              "5"
            ]
          },
          "metadata": {},
          "execution_count": 130
        }
      ]
    },
    {
      "cell_type": "markdown",
      "source": [
        "14. Write a code to find the index of the element \"cat\" in the tuple ('dog', 'cat', 'rabbit')."
      ],
      "metadata": {
        "id": "Edel2j9C0UJX"
      }
    },
    {
      "cell_type": "code",
      "source": [
        "x=('dog','cat','rabbit')\n",
        "x.index('cat')"
      ],
      "metadata": {
        "colab": {
          "base_uri": "https://localhost:8080/"
        },
        "id": "YGb_brg50WFE",
        "outputId": "63aabbcb-28b2-4831-f949-9a8a17643bf2"
      },
      "execution_count": null,
      "outputs": [
        {
          "output_type": "execute_result",
          "data": {
            "text/plain": [
              "1"
            ]
          },
          "metadata": {},
          "execution_count": 151
        }
      ]
    },
    {
      "cell_type": "markdown",
      "source": [
        "15. Write a code to create a tuple containing three different fruits and check if \"kiwi\" is in it."
      ],
      "metadata": {
        "id": "vpUp1u7c03qT"
      }
    },
    {
      "cell_type": "code",
      "source": [
        "fruits= (\"apple\",\"banana\",\"orange\",\"grapes\",\"kiwi\")\n",
        "\"kiwi\" in fruits\n"
      ],
      "metadata": {
        "colab": {
          "base_uri": "https://localhost:8080/"
        },
        "id": "HWWgz8z1044I",
        "outputId": "c7555510-a4ad-48e0-880e-d0910a0123c2"
      },
      "execution_count": null,
      "outputs": [
        {
          "output_type": "execute_result",
          "data": {
            "text/plain": [
              "True"
            ]
          },
          "metadata": {},
          "execution_count": 152
        }
      ]
    },
    {
      "cell_type": "markdown",
      "source": [
        "16. Write a code to create a set with the elements 'a', 'b', 'c' and print it."
      ],
      "metadata": {
        "id": "vIba7DxH283K"
      }
    },
    {
      "cell_type": "code",
      "source": [
        "elements = {'a','b','c'}\n",
        "elements"
      ],
      "metadata": {
        "colab": {
          "base_uri": "https://localhost:8080/"
        },
        "id": "YCTDdau53A74",
        "outputId": "7a050785-5d33-4775-a438-39d8a575a1d8"
      },
      "execution_count": null,
      "outputs": [
        {
          "output_type": "execute_result",
          "data": {
            "text/plain": [
              "{'a', 'b', 'c'}"
            ]
          },
          "metadata": {},
          "execution_count": 133
        }
      ]
    },
    {
      "cell_type": "markdown",
      "source": [
        "17. Write a code to clear all elements from the set {1, 2, 3, 4, 5}."
      ],
      "metadata": {
        "id": "kvF7Zefe4NrO"
      }
    },
    {
      "cell_type": "code",
      "source": [
        "s={1,2,3,4,5}\n",
        "s.clear()\n",
        "s"
      ],
      "metadata": {
        "colab": {
          "base_uri": "https://localhost:8080/"
        },
        "id": "ze3KM13v4R4V",
        "outputId": "8bc69a4a-89ae-4ff6-973a-e3e844e15a94"
      },
      "execution_count": null,
      "outputs": [
        {
          "output_type": "execute_result",
          "data": {
            "text/plain": [
              "set()"
            ]
          },
          "metadata": {},
          "execution_count": 134
        }
      ]
    },
    {
      "cell_type": "markdown",
      "source": [
        "18. Write a code to remove the element 4 from the set {1, 2, 3, 4}."
      ],
      "metadata": {
        "id": "Ouih2W9g40jH"
      }
    },
    {
      "cell_type": "code",
      "source": [
        "num={1,2,3,4}\n",
        "num.remove(4)\n",
        "print(num)"
      ],
      "metadata": {
        "colab": {
          "base_uri": "https://localhost:8080/"
        },
        "id": "tqzF4iVv41gT",
        "outputId": "2d5aedaf-ca05-4239-876a-a22e9d5d2d3e"
      },
      "execution_count": null,
      "outputs": [
        {
          "output_type": "stream",
          "name": "stdout",
          "text": [
            "{1, 2, 3}\n"
          ]
        }
      ]
    },
    {
      "cell_type": "markdown",
      "source": [
        "19. Write a code to find the union of two sets {1, 2, 3} and {3, 4, 5}."
      ],
      "metadata": {
        "id": "BSGE0lII5vJM"
      }
    },
    {
      "cell_type": "code",
      "source": [
        "a={1,2,3}\n",
        "b={3,4,5}\n",
        "a|b"
      ],
      "metadata": {
        "colab": {
          "base_uri": "https://localhost:8080/"
        },
        "id": "UFaaXCKm5xJB",
        "outputId": "365a3e63-2f1b-40bb-a034-af912492d333"
      },
      "execution_count": null,
      "outputs": [
        {
          "output_type": "execute_result",
          "data": {
            "text/plain": [
              "{1, 2, 3, 4, 5}"
            ]
          },
          "metadata": {},
          "execution_count": 136
        }
      ]
    },
    {
      "cell_type": "markdown",
      "source": [
        "20. Write a code to find the intersection of two sets {1, 2, 3} and {2, 3, 4}."
      ],
      "metadata": {
        "id": "q6e86SBx6eFA"
      }
    },
    {
      "cell_type": "code",
      "source": [
        "A= {1,2,3}\n",
        "B= {2,3,4}\n",
        "A&B"
      ],
      "metadata": {
        "colab": {
          "base_uri": "https://localhost:8080/"
        },
        "id": "RMmAyq6a6fLj",
        "outputId": "9163ac3c-62e9-4dfd-a006-96bdc9bced14"
      },
      "execution_count": null,
      "outputs": [
        {
          "output_type": "execute_result",
          "data": {
            "text/plain": [
              "{2, 3}"
            ]
          },
          "metadata": {},
          "execution_count": 137
        }
      ]
    },
    {
      "cell_type": "markdown",
      "source": [
        "21. Write a code to create a dictionary with the keys \"name\", \"age\", and \"city\", and print it."
      ],
      "metadata": {
        "id": "Y9wlwpsD6scB"
      }
    },
    {
      "cell_type": "code",
      "source": [
        "details= {\"name\":\"Alexa\",\"age\":7,\"city\":\"washington\"}\n",
        "details"
      ],
      "metadata": {
        "colab": {
          "base_uri": "https://localhost:8080/"
        },
        "id": "bPihCcnS6ugn",
        "outputId": "41e461df-1902-4833-c8f7-f7fc4e11a88b"
      },
      "execution_count": null,
      "outputs": [
        {
          "output_type": "execute_result",
          "data": {
            "text/plain": [
              "{'name': 'Alexa', 'age': 7, 'city': 'washington'}"
            ]
          },
          "metadata": {},
          "execution_count": 139
        }
      ]
    },
    {
      "cell_type": "markdown",
      "source": [
        "22. Write a code to add a new key-value pair \"country\": \"USA\" to the dictionary {'name': 'John', 'age': 25}."
      ],
      "metadata": {
        "id": "pq5TRyIZ7vtD"
      }
    },
    {
      "cell_type": "code",
      "source": [
        "s= {\"name\":\"John\",\"age\":25}\n",
        "d={\"country\":\"USA\"}\n",
        "s.update(d)\n",
        "s"
      ],
      "metadata": {
        "colab": {
          "base_uri": "https://localhost:8080/"
        },
        "id": "pbewwlly5kja",
        "outputId": "8825551f-5039-4152-bf3a-64608ebd0ca3"
      },
      "execution_count": null,
      "outputs": [
        {
          "output_type": "execute_result",
          "data": {
            "text/plain": [
              "{'name': 'John', 'age': 25, 'country': 'USA'}"
            ]
          },
          "metadata": {},
          "execution_count": 140
        }
      ]
    },
    {
      "cell_type": "markdown",
      "source": [
        "23. Write a code to access the value associated with the key \"name\" in the dictionary {'name': 'Alice', 'age': 30}."
      ],
      "metadata": {
        "id": "qVi1cxQG9aV8"
      }
    },
    {
      "cell_type": "code",
      "source": [
        "d1= {\"name\":\"Alice\",\"age\":30}\n",
        "d1[\"name\"]"
      ],
      "metadata": {
        "colab": {
          "base_uri": "https://localhost:8080/",
          "height": 36
        },
        "id": "asvxK-769dW4",
        "outputId": "fda3185e-4640-4cab-fa56-ce7e14fb019f"
      },
      "execution_count": null,
      "outputs": [
        {
          "output_type": "execute_result",
          "data": {
            "text/plain": [
              "'Alice'"
            ],
            "application/vnd.google.colaboratory.intrinsic+json": {
              "type": "string"
            }
          },
          "metadata": {},
          "execution_count": 141
        }
      ]
    },
    {
      "cell_type": "markdown",
      "source": [
        "24. Write a code to remove the key \"age\" from the dictionary {'name': 'Bob', 'age': 22, 'city': 'New York'}."
      ],
      "metadata": {
        "id": "IBLjRnlZ-uFL"
      }
    },
    {
      "cell_type": "code",
      "source": [
        "detail = {\"name\":\"Bob\",\"age\":22,\"city\":\"New York\"}\n",
        "detail.pop(\"age\")\n",
        "detail"
      ],
      "metadata": {
        "colab": {
          "base_uri": "https://localhost:8080/"
        },
        "id": "aR8hD6Nq-y5X",
        "outputId": "3a7cae6f-dd56-45fa-d67d-d55984268ea7"
      },
      "execution_count": null,
      "outputs": [
        {
          "output_type": "execute_result",
          "data": {
            "text/plain": [
              "{'name': 'Bob', 'city': 'New York'}"
            ]
          },
          "metadata": {},
          "execution_count": 142
        }
      ]
    },
    {
      "cell_type": "markdown",
      "source": [
        "25. Write a code to check if the key \"city\" exists in the dictionary {'name': 'Alice', 'city': 'Paris'}."
      ],
      "metadata": {
        "id": "lwQcB15e__hO"
      }
    },
    {
      "cell_type": "code",
      "source": [
        "d= {\"name\":\"Alice\",\"city\":\"Paris\"}\n",
        "\"city\" in d"
      ],
      "metadata": {
        "colab": {
          "base_uri": "https://localhost:8080/"
        },
        "id": "RXNW8JMmAB_D",
        "outputId": "129c031b-c630-40ed-d7d0-4cf87216fc6b"
      },
      "execution_count": null,
      "outputs": [
        {
          "output_type": "execute_result",
          "data": {
            "text/plain": [
              "True"
            ]
          },
          "metadata": {},
          "execution_count": 143
        }
      ]
    },
    {
      "cell_type": "markdown",
      "source": [
        "26. Write a code to create a list, a tuple, and a dictionary, and print them all."
      ],
      "metadata": {
        "id": "ZLXnGVUAK066"
      }
    },
    {
      "cell_type": "code",
      "source": [
        "one_list = list(range(1,10,2))\n",
        "a= tuple(range(2,30,3))\n",
        "c= {\"num\":[1,2,3,4]}\n",
        "print(one_list)\n",
        "print(a)\n",
        "print(c)"
      ],
      "metadata": {
        "colab": {
          "base_uri": "https://localhost:8080/"
        },
        "id": "TVnmPmCoK2nC",
        "outputId": "ae4005bb-ef20-4b7d-e86d-68d9761fcd57"
      },
      "execution_count": null,
      "outputs": [
        {
          "output_type": "stream",
          "name": "stdout",
          "text": [
            "[1, 3, 5, 7, 9]\n",
            "(2, 5, 8, 11, 14, 17, 20, 23, 26, 29)\n",
            "{'num': [1, 2, 3, 4]}\n"
          ]
        }
      ]
    },
    {
      "cell_type": "markdown",
      "source": [
        "27. Write a code to create a list of 5 random numbers between 1 and 100, sort it in ascending order, and print the\n",
        "result.(replaced)"
      ],
      "metadata": {
        "id": "tyRFeM12RRkc"
      }
    },
    {
      "cell_type": "code",
      "source": [
        "import random\n",
        "num = random.sample(range(1,100),5)\n",
        "num.sort()\n",
        "print(num)"
      ],
      "metadata": {
        "id": "uefCY7F0RWF4",
        "colab": {
          "base_uri": "https://localhost:8080/"
        },
        "outputId": "6e443fc2-c7f5-4f4d-8cfc-69ea86305048"
      },
      "execution_count": null,
      "outputs": [
        {
          "output_type": "stream",
          "name": "stdout",
          "text": [
            "[7, 17, 26, 48, 88]\n"
          ]
        }
      ]
    },
    {
      "cell_type": "markdown",
      "source": [
        "28. Write a code to create a list with strings and print the element at the third index."
      ],
      "metadata": {
        "id": "1CxHgn5wTN7y"
      }
    },
    {
      "cell_type": "code",
      "source": [
        "z = \"priyanka,suman,ritika,ram,rahul\"\n",
        "z"
      ],
      "metadata": {
        "colab": {
          "base_uri": "https://localhost:8080/",
          "height": 36
        },
        "id": "qwjuuRFATQUa",
        "outputId": "f7da70ff-0bc9-4d80-a95c-b85f112072a7"
      },
      "execution_count": null,
      "outputs": [
        {
          "output_type": "execute_result",
          "data": {
            "text/plain": [
              "'priyanka,suman,ritika,ram,rahul'"
            ],
            "application/vnd.google.colaboratory.intrinsic+json": {
              "type": "string"
            }
          },
          "metadata": {},
          "execution_count": 12
        }
      ]
    },
    {
      "cell_type": "code",
      "source": [
        "type(z)"
      ],
      "metadata": {
        "colab": {
          "base_uri": "https://localhost:8080/"
        },
        "id": "o8fvbi68DiS-",
        "outputId": "e7b5a386-064a-411a-9954-87f8dc249d7e"
      },
      "execution_count": null,
      "outputs": [
        {
          "output_type": "execute_result",
          "data": {
            "text/plain": [
              "str"
            ]
          },
          "metadata": {},
          "execution_count": 13
        }
      ]
    },
    {
      "cell_type": "code",
      "source": [
        "x=z.split(',')\n",
        "x"
      ],
      "metadata": {
        "colab": {
          "base_uri": "https://localhost:8080/"
        },
        "id": "nZVLQ7HrDlCP",
        "outputId": "d20ac334-ec31-4a9e-88d4-7467de696f1e"
      },
      "execution_count": null,
      "outputs": [
        {
          "output_type": "execute_result",
          "data": {
            "text/plain": [
              "['priyanka', 'suman', 'ritika', 'ram', 'rahul']"
            ]
          },
          "metadata": {},
          "execution_count": 15
        }
      ]
    },
    {
      "cell_type": "code",
      "source": [
        "type(x)"
      ],
      "metadata": {
        "colab": {
          "base_uri": "https://localhost:8080/"
        },
        "id": "oKyZfYMcEJC7",
        "outputId": "565b9872-d5ca-4020-a157-4a720d0d3dc4"
      },
      "execution_count": null,
      "outputs": [
        {
          "output_type": "execute_result",
          "data": {
            "text/plain": [
              "list"
            ]
          },
          "metadata": {},
          "execution_count": 16
        }
      ]
    },
    {
      "cell_type": "code",
      "source": [
        "x[3]"
      ],
      "metadata": {
        "colab": {
          "base_uri": "https://localhost:8080/",
          "height": 36
        },
        "id": "2xWlSPhpFYz_",
        "outputId": "9acdde25-0a5c-49a0-c03c-0f47742117e9"
      },
      "execution_count": null,
      "outputs": [
        {
          "output_type": "execute_result",
          "data": {
            "text/plain": [
              "'ram'"
            ],
            "application/vnd.google.colaboratory.intrinsic+json": {
              "type": "string"
            }
          },
          "metadata": {},
          "execution_count": 17
        }
      ]
    },
    {
      "cell_type": "markdown",
      "source": [
        "29. Write a code to combine two dictionaries into one and print the result."
      ],
      "metadata": {
        "id": "Il45XZPeYbrC"
      }
    },
    {
      "cell_type": "code",
      "source": [
        "a= {\"games\":[\"cricket\",\"badminton\"],\"student\":[\"play\",\"not play\"]}\n",
        "a"
      ],
      "metadata": {
        "id": "0whaOoWvbG9L",
        "colab": {
          "base_uri": "https://localhost:8080/"
        },
        "outputId": "3ecc5382-d14d-4e6f-af83-705245ced91b"
      },
      "execution_count": null,
      "outputs": [
        {
          "output_type": "execute_result",
          "data": {
            "text/plain": [
              "{'games': ['cricket', 'badminton'], 'student': ['play', 'not play']}"
            ]
          },
          "metadata": {},
          "execution_count": 11
        }
      ]
    },
    {
      "cell_type": "code",
      "source": [
        "a[\"place\"]= \"indoor\",\"outdoor\"\n",
        "a"
      ],
      "metadata": {
        "colab": {
          "base_uri": "https://localhost:8080/"
        },
        "id": "LAztSLMW02Za",
        "outputId": "d8b4fc36-9c15-4334-bfc6-a45b2b516544"
      },
      "execution_count": null,
      "outputs": [
        {
          "output_type": "execute_result",
          "data": {
            "text/plain": [
              "{'games': ['cricket', 'badminton'],\n",
              " 'student': ['play', 'not play'],\n",
              " 'place': ('indoor', 'outdoor')}"
            ]
          },
          "metadata": {},
          "execution_count": 13
        }
      ]
    },
    {
      "cell_type": "markdown",
      "source": [
        "30. Write a code to convert a list of strings into a set."
      ],
      "metadata": {
        "id": "leBmsVWNbEvX"
      }
    },
    {
      "cell_type": "code",
      "source": [
        "listA =[\"Hema\",\"sudha\",\"priya\",\"data science\",\"pwskills\"]\n",
        "type(listA)"
      ],
      "metadata": {
        "id": "kOMF6C2Yao21",
        "colab": {
          "base_uri": "https://localhost:8080/"
        },
        "outputId": "d122479f-0fbf-470f-9c2f-5ab03956adbb"
      },
      "execution_count": null,
      "outputs": [
        {
          "output_type": "execute_result",
          "data": {
            "text/plain": [
              "list"
            ]
          },
          "metadata": {},
          "execution_count": 4
        }
      ]
    },
    {
      "cell_type": "code",
      "source": [
        "listA[0]"
      ],
      "metadata": {
        "colab": {
          "base_uri": "https://localhost:8080/",
          "height": 36
        },
        "id": "FvAzDopBow9B",
        "outputId": "d8cdaf5c-78ec-4456-e2c9-ae066a6adea9"
      },
      "execution_count": null,
      "outputs": [
        {
          "output_type": "execute_result",
          "data": {
            "text/plain": [
              "'Hema'"
            ],
            "application/vnd.google.colaboratory.intrinsic+json": {
              "type": "string"
            }
          },
          "metadata": {},
          "execution_count": 5
        }
      ]
    },
    {
      "cell_type": "code",
      "source": [
        "type(listA[0])"
      ],
      "metadata": {
        "colab": {
          "base_uri": "https://localhost:8080/"
        },
        "id": "C4zNgK1WpALH",
        "outputId": "100c1e04-0ac5-4fc7-ec9d-40a9de961cd7"
      },
      "execution_count": null,
      "outputs": [
        {
          "output_type": "execute_result",
          "data": {
            "text/plain": [
              "str"
            ]
          },
          "metadata": {},
          "execution_count": 6
        }
      ]
    },
    {
      "cell_type": "code",
      "source": [
        "type(listA[2])"
      ],
      "metadata": {
        "colab": {
          "base_uri": "https://localhost:8080/"
        },
        "id": "nTfyrvk4pGXU",
        "outputId": "71557df7-ecb7-4e02-da86-eaab21da921f"
      },
      "execution_count": null,
      "outputs": [
        {
          "output_type": "execute_result",
          "data": {
            "text/plain": [
              "str"
            ]
          },
          "metadata": {},
          "execution_count": 7
        }
      ]
    },
    {
      "cell_type": "code",
      "source": [
        "set(listA)"
      ],
      "metadata": {
        "colab": {
          "base_uri": "https://localhost:8080/"
        },
        "id": "mSoYB_FFpPns",
        "outputId": "fe32b4f5-7df1-49d1-becb-f0ed63e6f587"
      },
      "execution_count": null,
      "outputs": [
        {
          "output_type": "execute_result",
          "data": {
            "text/plain": [
              "{'Hema', 'data science', 'priya', 'pwskills', 'sudha'}"
            ]
          },
          "metadata": {},
          "execution_count": 8
        }
      ]
    },
    {
      "cell_type": "code",
      "source": [
        "type(set(listA))"
      ],
      "metadata": {
        "colab": {
          "base_uri": "https://localhost:8080/"
        },
        "id": "gRByeKejpTle",
        "outputId": "293dd016-dc39-4180-eaf7-ef9cd8291404"
      },
      "execution_count": null,
      "outputs": [
        {
          "output_type": "execute_result",
          "data": {
            "text/plain": [
              "set"
            ]
          },
          "metadata": {},
          "execution_count": 10
        }
      ]
    },
    {
      "cell_type": "code",
      "source": [],
      "metadata": {
        "id": "vEM8UYNZpaBg"
      },
      "execution_count": null,
      "outputs": []
    }
  ]
}